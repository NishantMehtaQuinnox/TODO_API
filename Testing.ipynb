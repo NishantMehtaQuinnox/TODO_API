{
 "cells": [
  {
   "cell_type": "code",
   "execution_count": 1,
   "metadata": {},
   "outputs": [
    {
     "name": "stderr",
     "output_type": "stream",
     "text": [
      "C:\\Users\\nishantm\\AppData\\Local\\Temp\\ipykernel_35408\\350767603.py:7: MovedIn20Warning: The ``declarative_base()`` function is now available as sqlalchemy.orm.declarative_base(). (deprecated since: 2.0) (Background on SQLAlchemy 2.0 at: https://sqlalche.me/e/b8d9)\n",
      "  Base = declarative_base()\n"
     ]
    }
   ],
   "source": [
    "from sqlalchemy import create_engine, Column, Integer, String, Boolean\n",
    "from sqlalchemy.ext.declarative import declarative_base\n",
    "from sqlalchemy.orm import sessionmaker\n",
    "\n",
    "\n",
    "engine = create_engine('sqlite:///D:/python_scripts/Tasks/TODO_API/DB/TODO.db', echo=True)  # Change echo=True for logging SQL queries\n",
    "Base = declarative_base()\n",
    "class Todo(Base):\n",
    "    __tablename__ = 'Tasks'\n",
    "    id = Column(Integer, primary_key=True)\n",
    "    title = Column(String(100))\n",
    "    description = Column(String)\n",
    "    completed = Column(Boolean, default=False)\n"
   ]
  },
  {
   "cell_type": "code",
   "execution_count": 2,
   "metadata": {},
   "outputs": [
    {
     "name": "stdout",
     "output_type": "stream",
     "text": [
      "2024-01-09 11:09:29,600 INFO sqlalchemy.engine.Engine BEGIN (implicit)\n",
      "2024-01-09 11:09:29,602 INFO sqlalchemy.engine.Engine PRAGMA main.table_info(\"Tasks\")\n",
      "2024-01-09 11:09:29,604 INFO sqlalchemy.engine.Engine [raw sql] ()\n",
      "2024-01-09 11:09:29,606 INFO sqlalchemy.engine.Engine PRAGMA temp.table_info(\"Tasks\")\n",
      "2024-01-09 11:09:29,608 INFO sqlalchemy.engine.Engine [raw sql] ()\n",
      "2024-01-09 11:09:29,611 INFO sqlalchemy.engine.Engine \n",
      "CREATE TABLE \"Tasks\" (\n",
      "\tid INTEGER NOT NULL, \n",
      "\ttitle VARCHAR(100), \n",
      "\tdescription VARCHAR, \n",
      "\tcompleted BOOLEAN, \n",
      "\tPRIMARY KEY (id)\n",
      ")\n",
      "\n",
      "\n",
      "2024-01-09 11:09:29,615 INFO sqlalchemy.engine.Engine [no key 0.00349s] ()\n",
      "2024-01-09 11:09:29,620 INFO sqlalchemy.engine.Engine COMMIT\n"
     ]
    }
   ],
   "source": [
    "Base.metadata.create_all(engine)\n"
   ]
  },
  {
   "cell_type": "code",
   "execution_count": 3,
   "metadata": {},
   "outputs": [],
   "source": [
    "Session_OBJ = sessionmaker(bind=engine)\n",
    "session = Session_OBJ()"
   ]
  },
  {
   "cell_type": "code",
   "execution_count": 4,
   "metadata": {},
   "outputs": [],
   "source": [
    "new_todo = Todo(title=\"Task2\", description=\"Task2\")\n",
    "session.add(new_todo)"
   ]
  },
  {
   "cell_type": "code",
   "execution_count": 5,
   "metadata": {},
   "outputs": [
    {
     "name": "stdout",
     "output_type": "stream",
     "text": [
      "2024-01-09 11:09:36,216 INFO sqlalchemy.engine.Engine BEGIN (implicit)\n",
      "2024-01-09 11:09:36,218 INFO sqlalchemy.engine.Engine SELECT name FROM sqlite_master WHERE type='table' AND name NOT LIKE 'sqlite~_%' ESCAPE '~' ORDER BY name\n",
      "2024-01-09 11:09:36,219 INFO sqlalchemy.engine.Engine [raw sql] ()\n",
      "2024-01-09 11:09:36,221 INFO sqlalchemy.engine.Engine SELECT name FROM sqlite_temp_master WHERE type='table' AND name NOT LIKE 'sqlite~_%' ESCAPE '~' ORDER BY name\n",
      "2024-01-09 11:09:36,223 INFO sqlalchemy.engine.Engine [raw sql] ()\n",
      "2024-01-09 11:09:36,225 INFO sqlalchemy.engine.Engine PRAGMA main.table_xinfo(\"Tasks\")\n",
      "2024-01-09 11:09:36,226 INFO sqlalchemy.engine.Engine [raw sql] ()\n",
      "2024-01-09 11:09:36,228 INFO sqlalchemy.engine.Engine SELECT sql FROM  (SELECT * FROM sqlite_master UNION ALL   SELECT * FROM sqlite_temp_master) WHERE name = ? AND type in ('table', 'view')\n",
      "2024-01-09 11:09:36,230 INFO sqlalchemy.engine.Engine [raw sql] ('Tasks',)\n",
      "2024-01-09 11:09:36,232 INFO sqlalchemy.engine.Engine PRAGMA main.foreign_key_list(\"Tasks\")\n",
      "2024-01-09 11:09:36,233 INFO sqlalchemy.engine.Engine [raw sql] ()\n",
      "2024-01-09 11:09:36,234 INFO sqlalchemy.engine.Engine PRAGMA temp.foreign_key_list(\"Tasks\")\n",
      "2024-01-09 11:09:36,237 INFO sqlalchemy.engine.Engine [raw sql] ()\n",
      "2024-01-09 11:09:36,237 INFO sqlalchemy.engine.Engine SELECT sql FROM  (SELECT * FROM sqlite_master UNION ALL   SELECT * FROM sqlite_temp_master) WHERE name = ? AND type in ('table', 'view')\n",
      "2024-01-09 11:09:36,239 INFO sqlalchemy.engine.Engine [raw sql] ('Tasks',)\n",
      "2024-01-09 11:09:36,243 INFO sqlalchemy.engine.Engine PRAGMA main.index_list(\"Tasks\")\n",
      "2024-01-09 11:09:36,245 INFO sqlalchemy.engine.Engine [raw sql] ()\n",
      "2024-01-09 11:09:36,247 INFO sqlalchemy.engine.Engine PRAGMA temp.index_list(\"Tasks\")\n",
      "2024-01-09 11:09:36,249 INFO sqlalchemy.engine.Engine [raw sql] ()\n",
      "2024-01-09 11:09:36,253 INFO sqlalchemy.engine.Engine PRAGMA main.table_info(\"Tasks\")\n",
      "2024-01-09 11:09:36,255 INFO sqlalchemy.engine.Engine [raw sql] ()\n",
      "2024-01-09 11:09:36,257 INFO sqlalchemy.engine.Engine PRAGMA main.index_list(\"Tasks\")\n",
      "2024-01-09 11:09:36,258 INFO sqlalchemy.engine.Engine [raw sql] ()\n",
      "2024-01-09 11:09:36,260 INFO sqlalchemy.engine.Engine PRAGMA temp.index_list(\"Tasks\")\n",
      "2024-01-09 11:09:36,262 INFO sqlalchemy.engine.Engine [raw sql] ()\n",
      "2024-01-09 11:09:36,264 INFO sqlalchemy.engine.Engine PRAGMA main.table_info(\"Tasks\")\n",
      "2024-01-09 11:09:36,266 INFO sqlalchemy.engine.Engine [raw sql] ()\n",
      "2024-01-09 11:09:36,267 INFO sqlalchemy.engine.Engine SELECT sql FROM  (SELECT * FROM sqlite_master UNION ALL   SELECT * FROM sqlite_temp_master) WHERE name = ? AND type in ('table', 'view')\n",
      "2024-01-09 11:09:36,268 INFO sqlalchemy.engine.Engine [raw sql] ('Tasks',)\n",
      "2024-01-09 11:09:36,271 INFO sqlalchemy.engine.Engine ROLLBACK\n",
      "2024-01-09 11:09:36,272 INFO sqlalchemy.engine.Engine BEGIN (implicit)\n",
      "2024-01-09 11:09:36,274 INFO sqlalchemy.engine.Engine PRAGMA main.table_info(\"Tasks\")\n",
      "2024-01-09 11:09:36,274 INFO sqlalchemy.engine.Engine [raw sql] ()\n",
      "2024-01-09 11:09:36,278 INFO sqlalchemy.engine.Engine \n",
      "DROP TABLE \"Tasks\"\n",
      "2024-01-09 11:09:36,280 INFO sqlalchemy.engine.Engine [no key 0.00175s] ()\n",
      "2024-01-09 11:09:36,287 INFO sqlalchemy.engine.Engine COMMIT\n"
     ]
    }
   ],
   "source": [
    "from sqlalchemy import MetaData\n",
    "\n",
    "metadata = MetaData()\n",
    "\n",
    "# Reflect the existing database into MetaData\n",
    "metadata.reflect(bind=engine)\n",
    "\n",
    "# Drop all tables defined in the metadata\n",
    "metadata.drop_all(bind=engine, checkfirst=True)"
   ]
  },
  {
   "cell_type": "code",
   "execution_count": 1,
   "metadata": {},
   "outputs": [],
   "source": [
    "import redis\n",
    "redis_client = redis.StrictRedis(host='redis-12453.c325.us-east-1-4.ec2.cloud.redislabs.com', port=12453, decode_responses=True, password=\"B4AL1yNQ2GlEZcscZSQ3Xnsb3rudV3y7\")\n",
    "  "
   ]
  },
  {
   "cell_type": "code",
   "execution_count": 2,
   "metadata": {},
   "outputs": [
    {
     "ename": "TypeError",
     "evalue": "ManagementCommands.echo() missing 1 required positional argument: 'value'",
     "output_type": "error",
     "traceback": [
      "\u001b[1;31m---------------------------------------------------------------------------\u001b[0m",
      "\u001b[1;31mTypeError\u001b[0m                                 Traceback (most recent call last)",
      "Cell \u001b[1;32mIn[2], line 1\u001b[0m\n\u001b[1;32m----> 1\u001b[0m \u001b[43mredis_client\u001b[49m\u001b[38;5;241;43m.\u001b[39;49m\u001b[43mecho\u001b[49m\u001b[43m(\u001b[49m\u001b[43m)\u001b[49m\n",
      "\u001b[1;31mTypeError\u001b[0m: ManagementCommands.echo() missing 1 required positional argument: 'value'"
     ]
    }
   ],
   "source": [
    "redis_client."
   ]
  },
  {
   "cell_type": "code",
   "execution_count": null,
   "metadata": {},
   "outputs": [],
   "source": []
  }
 ],
 "metadata": {
  "kernelspec": {
   "display_name": ".venv",
   "language": "python",
   "name": "python3"
  },
  "language_info": {
   "codemirror_mode": {
    "name": "ipython",
    "version": 3
   },
   "file_extension": ".py",
   "mimetype": "text/x-python",
   "name": "python",
   "nbconvert_exporter": "python",
   "pygments_lexer": "ipython3",
   "version": "3.11.5"
  }
 },
 "nbformat": 4,
 "nbformat_minor": 2
}
